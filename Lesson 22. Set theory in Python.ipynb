{
 "cells": [
  {
   "cell_type": "markdown",
   "id": "a6b7ca2d",
   "metadata": {},
   "source": [
    "### Завдання 1. *Скільки студентів отримали хоча б по одній відмінній оцінці*?\n",
    "\n",
    "- [x] За підсумками іспитів, з 37 студентів відмінну оцінку з математики мали 15 студентів, з фізики - 16, хімії - 19, з математики та фізики - 7, з математики та хімії - 9, з фізики та хімії - 6, з усіх трьох дисциплін - 4."
   ]
  },
  {
   "cell_type": "code",
   "execution_count": 2,
   "id": "7181fa1f",
   "metadata": {
    "scrolled": true
   },
   "outputs": [
    {
     "name": "stdout",
     "output_type": "stream",
     "text": [
      "Students: {'sveta', 'roman', 'kunis', 'angelika', 'alex', 'vasyl', 'vika', 'jenefer', 'britny', 'ivan', 'petro', 'nastya', 'bogdan', 'brad', 'inna', 'jane', 'natasha', 'ariana', 'oleg', 'victor', 'xena', 'gerar', 'yosip', 'qventin', 'zinovii', 'mila', 'luda', 'oleksii', 'tupak', 'ira', 'igor', 'oksana', 'jastin', 'yura', 'jan', 'tanya', 'olya'}\n",
      "\n",
      "Amount of all students: 37\n",
      "\n",
      "A+ score students: {'sveta', 'roman', 'kunis', 'angelika', 'alex', 'jenefer', 'vika', 'britny', 'ivan', 'petro', 'nastya', 'bogdan', 'brad', 'jane', 'natasha', 'inna', 'ariana', 'oleg', 'victor', 'gerar', 'yosip', 'qventin', 'zinovii', 'mila', 'luda', 'oleksii', 'tupak', 'ira', 'igor', 'oksana', 'jastin', 'yura', 'jan', 'tanya', 'olya'}\n",
      "\n",
      "Amount of A+ students: 35\n",
      "\n",
      "Is Students superset?: True \n",
      "\n"
     ]
    }
   ],
   "source": [
    "all_students = {'alex', 'oleg', 'petro', 'nastya', 'olya', 'sveta', 'oleksii', 'alex', 'igor', 'ariana', 'roman',\n",
    "                'luda', 'oksana', 'tanya', 'britny', 'xena', 'yura', 'inna', 'natasha', 'ira', 'jane', 'jan', \n",
    "                'vasyl', 'jenefer', 'mila', 'kunis', 'brad', 'jastin','tupak', 'ivan', 'bogdan', 'qventin',\n",
    "                'yosip', 'victor', 'vika', 'zinovii', 'angelika', 'gerar'}\n",
    "\n",
    "math = {'alex', 'oleg', 'petro', 'nastya', 'olya', 'sveta', 'oleksii', 'jane','igor', 'ariana', 'roman','luda',\n",
    "        'oksana', 'tanya', 'britny'}\n",
    "\n",
    "physics = {'alex', 'oleg', 'ivan', 'qventin', 'inna', 'tupak', 'yosip', 'jan', 'natasha', 'kunis', 'roman', 'luda', \n",
    "           'brad', 'jastin', 'angelika', 'ira'}\n",
    "\n",
    "chemistry = {'alex', 'yura', 'ivan', 'qventin', 'inna', 'tupak', 'yosip', 'jan', 'jenefer', 'kunis', 'roman', 'luda', \n",
    "             'brad', 'jastin', 'angelika', 'ira', 'victor', 'zinovii', 'gerar'}\n",
    "\n",
    "math_physics = {'ivan', 'bogdan', 'qventin', 'yosip', 'victor', 'vika', 'zinovii', 'angelika', 'gerar'}\n",
    "\n",
    "math_chemistry = {'nastya', 'olya', 'sveta'}\n",
    "\n",
    "physics_chemistry = {'tupak', 'ivan', 'bogdan', 'qventin', 'yosip', 'victor'}\n",
    "\n",
    "math_physics_chemistry = {'mila', 'kunis', 'brad', 'jastin'}\n",
    "\n",
    "\n",
    "print('Students:', all_students)\n",
    "print('\\nAmount of all students:', len(all_students))\n",
    "\n",
    "\n",
    "subj_stud = math | physics | chemistry | math_physics | math_chemistry | physics_chemistry | math_physics_chemistry\n",
    "print('\\nA+ score students:', subj_stud)\n",
    "print('\\nAmount of A+ students:', len(subj_stud))\n",
    "\n",
    "superset = all_students.issuperset(subj_stud)\n",
    "print('\\nIs Students superset?:', superset, '\\n')\n",
    "\n"
   ]
  },
  {
   "cell_type": "markdown",
   "id": "9688c150",
   "metadata": {},
   "source": [
    "### Завдання 2. *Скільки днів у вересні була гарна погода*?\n",
    "\n",
    "- [x] Протягом 30-ти днів вересня було 12 дощових, 8 вітряних, 4 холодних, 5 дощових і вітряних, 3 дощових і холодних, 2 вітряних та холодних, 1 дощовий, вітряний та холодний одночасно."
   ]
  },
  {
   "cell_type": "code",
   "execution_count": null,
   "id": "6e582bf8",
   "metadata": {},
   "outputs": [],
   "source": []
  }
 ],
 "metadata": {
  "kernelspec": {
   "display_name": "Python 3 (ipykernel)",
   "language": "python",
   "name": "python3"
  },
  "language_info": {
   "codemirror_mode": {
    "name": "ipython",
    "version": 3
   },
   "file_extension": ".py",
   "mimetype": "text/x-python",
   "name": "python",
   "nbconvert_exporter": "python",
   "pygments_lexer": "ipython3",
   "version": "3.9.13"
  }
 },
 "nbformat": 4,
 "nbformat_minor": 5
}
