{
 "cells": [
  {
   "cell_type": "markdown",
   "id": "a6b7ca2d",
   "metadata": {},
   "source": [
    "### Завдання 1. *Скільки студентів отримали хоча б по одній відмінній оцінці*?\n",
    "\n",
    "- [x] За підсумками іспитів, з 37 студентів відмінну оцінку з математики мали 15 студентів, з фізики - 16, хімії - 19, з математики та фізики - 7, з математики та хімії - 9, з фізики та хімії - 6, з усіх трьох дисциплін - 4."
   ]
  },
  {
   "cell_type": "code",
   "execution_count": 2,
   "id": "7181fa1f",
   "metadata": {
    "scrolled": true
   },
   "outputs": [
    {
     "name": "stdout",
     "output_type": "stream",
     "text": [
      "Students: {'oleg', 'britny', 'ira', 'victor', 'jastin', 'qventin', 'yosip', 'inna', 'tupak', 'petro', 'ivan', 'nastya', 'ariana', 'oksana', 'bogdan', 'vasyl', 'angelika', 'gerar', 'igor', 'oleksii', 'zinovii', 'tanya', 'roman', 'kunis', 'luda', 'vika', 'xena', 'olya', 'jane', 'natasha', 'alex', 'jan', 'yura', 'jenefer', 'mila', 'sveta', 'brad'}\n",
      "\n",
      "Amount of all students: 37\n",
      "\n",
      "A+ score students: {'oleg', 'britny', 'ira', 'victor', 'jastin', 'qventin', 'yosip', 'inna', 'tupak', 'petro', 'ivan', 'nastya', 'ariana', 'oksana', 'bogdan', 'angelika', 'gerar', 'igor', 'oleksii', 'zinovii', 'tanya', 'roman', 'kunis', 'luda', 'vika', 'olya', 'jane', 'natasha', 'alex', 'jan', 'yura', 'jenefer', 'mila', 'sveta', 'brad'}\n",
      "\n",
      "Amount of A+ students: 35\n",
      "\n",
      "Is all students superset?: True \n",
      "\n"
     ]
    }
   ],
   "source": [
    "all_students = {'alex', 'oleg', 'petro', 'nastya', 'olya', 'sveta', 'oleksii', 'alex', 'igor', 'ariana', 'roman',\n",
    "                'luda', 'oksana', 'tanya', 'britny', 'xena', 'yura', 'inna', 'natasha', 'ira', 'jane', 'jan', \n",
    "                'vasyl', 'jenefer', 'mila', 'kunis', 'brad', 'jastin','tupak', 'ivan', 'bogdan', 'qventin',\n",
    "                'yosip', 'victor', 'vika', 'zinovii', 'angelika', 'gerar'}\n",
    "\n",
    "math = {'alex', 'oleg', 'petro', 'nastya', 'olya', 'sveta', 'oleksii', 'jane','igor', 'ariana', 'roman','luda',\n",
    "        'oksana', 'tanya', 'britny'}\n",
    "\n",
    "physics = {'alex', 'oleg', 'ivan', 'qventin', 'inna', 'tupak', 'yosip', 'jan', 'natasha', 'kunis', 'roman', 'luda', \n",
    "           'brad', 'jastin', 'angelika', 'ira'}\n",
    "\n",
    "chemistry = {'alex', 'yura', 'ivan', 'qventin', 'inna', 'tupak', 'yosip', 'jan', 'jenefer', 'kunis', 'roman', 'luda', \n",
    "             'brad', 'jastin', 'angelika', 'ira', 'victor', 'zinovii', 'gerar'}\n",
    "\n",
    "math_physics = {'ivan', 'bogdan', 'qventin', 'yosip', 'victor', 'vika', 'zinovii'}\n",
    "\n",
    "math_chemistry = {'nastya', 'olya', 'sveta', 'angelika', 'gerar','mila', 'kunis', 'brad', 'jastin'}\n",
    "\n",
    "physics_chemistry = {'tupak', 'ivan', 'bogdan', 'qventin', 'yosip', 'victor'}\n",
    "\n",
    "math_physics_chemistry = {'mila', 'kunis', 'brad', 'jastin'}\n",
    "\n",
    "\n",
    "print('Students:', all_students)\n",
    "print('\\nAmount of all students:', len(all_students))\n",
    "\n",
    "\n",
    "subj_stud = math | physics | chemistry | math_physics | math_chemistry | physics_chemistry | math_physics_chemistry\n",
    "print('\\nA+ score students:', subj_stud)\n",
    "print('\\nAmount of A+ students:', len(subj_stud))\n",
    "\n",
    "superset = all_students.issuperset(subj_stud)\n",
    "print('\\nIs all students superset?:', superset, '\\n')\n",
    "\n"
   ]
  },
  {
   "cell_type": "markdown",
   "id": "9688c150",
   "metadata": {},
   "source": [
    "### Завдання 2. *Скільки днів у вересні була гарна погода*?\n",
    "\n",
    "- [x] Протягом 30-ти днів вересня було 12 дощових, 8 вітряних, 4 холодних, 5 дощових і вітряних, 3 дощових і холодних, 2 вітряних та холодних, 1 дощовий, вітряний та холодний одночасно."
   ]
  },
  {
   "cell_type": "code",
   "execution_count": 1,
   "id": "6e582bf8",
   "metadata": {},
   "outputs": [
    {
     "name": "stdout",
     "output_type": "stream",
     "text": [
      "All days in September: 30\n",
      "\n",
      "Type of weather in September:\n",
      "Rainy days: 12\n",
      "Windy days: 8\n",
      "Cold days: 4\n",
      "\n",
      "Rainy, windy and cold days: 1\n",
      "Only rainy and windy days: 4\n",
      "Only rainy and cold days: 2\n",
      "Only windy and cold days: 1\n",
      "\n",
      "Only rainy days: 5\n",
      "Only windy days: 2\n",
      "Only cold days: 1\n",
      "\n",
      "All bad days in September: 16\n",
      "All good days is September: 14\n"
     ]
    }
   ],
   "source": [
    "day_september = {30}  \n",
    "\n",
    "rainy = {12}\n",
    "windy = {8}\n",
    "cold = {4}\n",
    "\n",
    "rainy_and_windy = {5}\n",
    "rainy_and_cold = {3}\n",
    "windy_and_cold = {2}\n",
    "rainy_and_windy_and_cold = {1}\n",
    "\n",
    "\n",
    "def get_weather():\n",
    "    for s in day_september:\n",
    "        print(f'All days in September:', s)\n",
    "    # Типи погоди у вересні.    \n",
    "    print('\\nType of weather in September:')\n",
    "    for r in rainy:    \n",
    "        print('Rainy days:', r)    \n",
    "        for w in windy:\n",
    "            print('Windy days:', w)\n",
    "            for c in cold:\n",
    "                print('Cold days:', c)\n",
    "            \n",
    "            \n",
    "    for rwc in rainy_and_windy_and_cold:\n",
    "        print('\\nRainy, windy and cold days:', rwc) # --> 1 (1 - буде відніматися від кількості інших типів погоди).\n",
    "        # Визначаю скільки саме дощових/вітряних, дощових/холодних, вітряних/холодних днів.\n",
    "        for rw in rainy_and_windy:\n",
    "            rw -= 1 # (rw = rainy_and_windy {5} - rainy_and_windy_and_cold {1} = 4).\n",
    "            print('Only rainy and windy days:', rw)\n",
    "            for rc in rainy_and_cold:\n",
    "                rc -= 1 # (rc = rainy_and_cold {3} - rainy_and_windy_and_cold {1} = 2).\n",
    "                print('Only rainy and cold days:', rc)\n",
    "                for wc in windy_and_cold:\n",
    "                    wc -= 1  # (wc =  windy_and_cold {2} - rainy_and_windy_and_cold {1} = 1).\n",
    "                    print('Only windy and cold days:', wc)\n",
    "                \n",
    "    # Визначаю тільки дощові дні.                \n",
    "    for r in rainy:\n",
    "        r = r - rw - rc - rwc # (r = 12 - 4 - 2 - 1 = 5).\n",
    "        print('\\nOnly rainy days:', r)\n",
    "    # Визначаю тільки вітряні дні.                \n",
    "    for w in windy:\n",
    "        w = w - rw - wc - rwc # (w = 8 - 4 - 1 - 1 = 2).\n",
    "        print('Only windy days:', w)\n",
    "    # Визначаю тільки холодні дні.                \n",
    "    for с in cold:\n",
    "        c = c - rc - wc # (c = 4 - 2 - 1 = 1).\n",
    "        print('Only cold days:', c)\n",
    "        \n",
    "    # Загальна кількість днів з поганою поганою у вересні.\n",
    "    for bad_days in day_september:\n",
    "        bad_days = rwc + rw + rc + wc + r + w + c # (bad_days = 1 + 4 + 2 + 1 + 5 + 2 + 1 = 16).\n",
    "        print('\\nAll bad days in September:', bad_days)\n",
    "        \n",
    "    # Загальна кількість днів з гарною поганою у вересні.\n",
    "    for good_days in day_september:\n",
    "        good_days = s - bad_days # (30 - 16 = 13); (s - це кількість днів у вересні).\n",
    "        print('All good days is September:', good_days)        \n",
    "        \n",
    "        \n",
    "get_weather()                      \n"
   ]
  },
  {
   "cell_type": "code",
   "execution_count": null,
   "id": "cf2a6829",
   "metadata": {},
   "outputs": [],
   "source": []
  },
  {
   "cell_type": "code",
   "execution_count": null,
   "id": "7ab958a8",
   "metadata": {},
   "outputs": [],
   "source": []
  }
 ],
 "metadata": {
  "kernelspec": {
   "display_name": "Python 3 (ipykernel)",
   "language": "python",
   "name": "python3"
  },
  "language_info": {
   "codemirror_mode": {
    "name": "ipython",
    "version": 3
   },
   "file_extension": ".py",
   "mimetype": "text/x-python",
   "name": "python",
   "nbconvert_exporter": "python",
   "pygments_lexer": "ipython3",
   "version": "3.9.13"
  }
 },
 "nbformat": 4,
 "nbformat_minor": 5
}
