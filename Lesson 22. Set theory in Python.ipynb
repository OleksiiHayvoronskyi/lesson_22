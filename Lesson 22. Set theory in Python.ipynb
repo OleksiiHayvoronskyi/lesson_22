{
 "cells": [
  {
   "cell_type": "markdown",
   "id": "a6b7ca2d",
   "metadata": {},
   "source": [
    "### Завдання 1. *Скільки студентів отримали хоча б по одній відмінній оцінці*?\n",
    "\n",
    "- [x] За підсумками іспитів, з 37 студентів відмінну оцінку з математики мали 15 студентів, з фізики - 16, хімії - 19, з математики та фізики - 7, з математики та хімії - 9, з фізики та хімії - 6, з усіх трьох дисциплін - 4."
   ]
  },
  {
   "cell_type": "markdown",
   "id": "adbf53c2",
   "metadata": {
    "scrolled": true
   },
   "source": [
    " *Розв’язання:* $ \\\\ $ \n",
    "| math $U$ physics $U$ chemistry | $=$ $ \\\\ $\n",
    "\n",
    "$=$ math $+$ physics $+$ chemistry $-$ math $∩$ math_physics $-$ math $∩$ math_chemistry $-$ physics $∩$ math_physics $-$ physics $∩$ physics_chemistry $-$ chemistry $∩$ math_chemistry $-$ chemistry $∩$ physics_chemistry $+$ math $∩$ physics $∩$ chemistry = $ \\\\ $\n",
    "$ = 15 + 16 + 19 + 4 - (7 + 9 + 6) = 54 - 22 = 32 $ $ \\\\ $\n",
    "\n",
    "*Кількість студентів, які отримали хоча б по одній відмінній оцінці* $ = 32 $ $ \\\\ $\n",
    "**ВІДПОВІДЬ**: $ 32 $\n",
    "\n"
   ]
  },
  {
   "cell_type": "code",
   "execution_count": 102,
   "id": "2e4a60e2",
   "metadata": {},
   "outputs": [
    {
     "name": "stdout",
     "output_type": "stream",
     "text": [
      "First set: {16, 19, 4, 15}\n",
      "Sum = 54 \n",
      "\n",
      "Second set: {9, 6, 7}\n",
      "Sum = 22 \n",
      "\n",
      "Amount of students who have Excellent grade point: 32\n"
     ]
    }
   ],
   "source": [
    "all_students = {37}\n",
    "\n",
    "math = {15}\n",
    "physics = {16}\n",
    "chemistry = {19}\n",
    "math_physics = {7}\n",
    "math_chemistry = {9}\n",
    "physics_chemistry = {6}\n",
    "math_physics_chemistry = {4}\n",
    "\n",
    "first_set = math.union(physics, chemistry, math_physics_chemistry)\n",
    "print('First set:', first_set)\n",
    "print('Sum =', sum(first_set), '\\n')\n",
    "\n",
    "second_set = math_physics.union(math_chemistry, physics_chemistry)\n",
    "print('Second set:', second_set)\n",
    "print('Sum =', sum(second_set), '\\n')\n",
    "\n",
    "result = sum(first_set) - sum(second_set)\n",
    "\n",
    "print('Amount of students who have Excellent grade point:', result)\n"
   ]
  },
  {
   "cell_type": "markdown",
   "id": "9688c150",
   "metadata": {},
   "source": [
    "### Завдання 2. *Скільки днів у вересні була гарна погода*?\n",
    "\n",
    "- [x] Протягом 30-ти днів вересня було 12 дощових, 8 вітряних, 4 холодних, 5 дощових і вітряних, 3 дощових і холодних, 2 вітряних та холодних, 1 дощовий, вітряний та холодний одночасно."
   ]
  },
  {
   "cell_type": "code",
   "execution_count": 103,
   "id": "6e582bf8",
   "metadata": {},
   "outputs": [
    {
     "name": "stdout",
     "output_type": "stream",
     "text": [
      "First set: {8, 1, 12, 4}\n",
      "Sum = 25 \n",
      "\n",
      "Second set: {2, 3, 5}\n",
      "Sum = 10 \n",
      "\n",
      "Amount of all good days in Septemper: 15\n"
     ]
    }
   ],
   "source": [
    "day_september = {30}\n",
    "\n",
    "rainy = {12}\n",
    "windy = {8}\n",
    "cold = {4}\n",
    "\n",
    "rainy_and_windy = {5}\n",
    "rainy_and_cold = {3}\n",
    "windy_and_cold = {2}\n",
    "rainy_and_windy_and_cold = {1}\n",
    "\n",
    "\n",
    "first_set = rainy.union(windy, cold, rainy_and_windy_and_cold)\n",
    "print('First set:', first_set)\n",
    "print('Sum =', sum(first_set), '\\n')\n",
    "\n",
    "second_set = rainy_and_windy.union(rainy_and_cold, windy_and_cold)\n",
    "print('Second set:', second_set)\n",
    "print('Sum =', sum(second_set), '\\n')\n",
    "\n",
    "good_day = sum(first_set) - sum(second_set)\n",
    "\n",
    "print('Amount of all good days in Septemper:', good_day)"
   ]
  },
  {
   "cell_type": "code",
   "execution_count": null,
   "id": "cf2a6829",
   "metadata": {},
   "outputs": [],
   "source": []
  },
  {
   "cell_type": "code",
   "execution_count": null,
   "id": "ad226af6",
   "metadata": {},
   "outputs": [],
   "source": []
  },
  {
   "cell_type": "code",
   "execution_count": null,
   "id": "eb90ed70",
   "metadata": {},
   "outputs": [],
   "source": [
    "# УВАГА! У цьому коді помилка. Відповідь має бути 15, тут - 16!\n",
    "\n",
    "\n",
    "# day_september = {30}  \n",
    "\n",
    "# rainy = {12}\n",
    "# windy = {8}\n",
    "# cold = {4}\n",
    "\n",
    "# rainy_and_windy = {5}\n",
    "# rainy_and_cold = {3}\n",
    "# windy_and_cold = {2}\n",
    "# rainy_and_windy_and_cold = {1}\n",
    "\n",
    "\n",
    "# def get_weather():\n",
    "#     for s in day_september:\n",
    "#         print(f'All days in September:', s)\n",
    "#     # Типи погоди у вересні.    \n",
    "#     print('\\nType of weather in September:')\n",
    "#     for r in rainy:    \n",
    "#         print('Rainy days:', r)    \n",
    "#         for w in windy:\n",
    "#             print('Windy days:', w)\n",
    "#             for c in cold:\n",
    "#                 print('Cold days:', c)\n",
    "            \n",
    "            \n",
    "#     for rwc in rainy_and_windy_and_cold:\n",
    "#         print('\\nRainy, windy and cold days:', rwc) # --> 1 (1 - буде відніматися від кількості інших типів погоди).\n",
    "#         # Визначаю скільки саме дощових/вітряних, дощових/холодних, вітряних/холодних днів.\n",
    "#         for rw in rainy_and_windy:\n",
    "#             rw -= 1 # (rw = rainy_and_windy {5} - rainy_and_windy_and_cold {1} = 4).\n",
    "#             print('Only rainy and windy days:', rw)\n",
    "#             for rc in rainy_and_cold:\n",
    "#                 rc -= 1 # (rc = rainy_and_cold {3} - rainy_and_windy_and_cold {1} = 2).\n",
    "#                 print('Only rainy and cold days:', rc)\n",
    "#                 for wc in windy_and_cold:\n",
    "#                     wc -= 1  # (wc =  windy_and_cold {2} - rainy_and_windy_and_cold {1} = 1).\n",
    "#                     print('Only windy and cold days:', wc)\n",
    "                \n",
    "#     # Визначаю тільки дощові дні.                \n",
    "#     for r in rainy:\n",
    "#         r = r - rw - rc - rwc # (r = 12 - 4 - 2 - 1 = 5).\n",
    "#         print('\\nOnly rainy days:', r)\n",
    "#     # Визначаю тільки вітряні дні.                \n",
    "#     for w in windy:\n",
    "#         w = w - rw - wc - rwc # (w = 8 - 4 - 1 - 1 = 2).\n",
    "#         print('Only windy days:', w)\n",
    "#     # Визначаю тільки холодні дні.                \n",
    "#     for с in cold:\n",
    "#         c = c - rc - wc # (c = 4 - 2 - 1 = 1).\n",
    "#         print('Only cold days:', c)\n",
    "        \n",
    "#     # Загальна кількість днів з поганою поганою у вересні.\n",
    "#     for bad_days in day_september:\n",
    "#         bad_days = rwc + rw + rc + wc + r + w + c # (bad_days = 1 + 4 + 2 + 1 + 5 + 2 + 1 = 16).\n",
    "#         print('\\nAll bad days in September:', bad_days)\n",
    "        \n",
    "#     # Загальна кількість днів з гарною поганою у вересні.\n",
    "#     for good_days in day_september:\n",
    "#         good_days = s - bad_days # (30 - 16 = 13); (s - це кількість днів у вересні).\n",
    "#         print('All good days is September:', good_days)        \n",
    "        \n",
    "        \n",
    "# get_weather()                      "
   ]
  }
 ],
 "metadata": {
  "kernelspec": {
   "display_name": "Python 3 (ipykernel)",
   "language": "python",
   "name": "python3"
  },
  "language_info": {
   "codemirror_mode": {
    "name": "ipython",
    "version": 3
   },
   "file_extension": ".py",
   "mimetype": "text/x-python",
   "name": "python",
   "nbconvert_exporter": "python",
   "pygments_lexer": "ipython3",
   "version": "3.9.13"
  }
 },
 "nbformat": 4,
 "nbformat_minor": 5
}
